{
  "nbformat": 4,
  "nbformat_minor": 0,
  "metadata": {
    "colab": {
      "provenance": [],
      "gpuType": "T4",
      "toc_visible": true
    },
    "kernelspec": {
      "name": "python3",
      "display_name": "Python 3"
    },
    "language_info": {
      "name": "python"
    },
    "accelerator": "GPU"
  },
  "cells": [
    {
      "cell_type": "code",
      "execution_count": null,
      "metadata": {
        "id": "A5eBaLBB2GHQ"
      },
      "outputs": [],
      "source": [
        "!pip install ultralytics"
      ]
    },
    {
      "cell_type": "code",
      "source": [
        "!pip install supervision"
      ],
      "metadata": {
        "id": "SLgnUOJJ2Rv4"
      },
      "execution_count": null,
      "outputs": []
    },
    {
      "cell_type": "code",
      "source": [
        "from ultralytics import YOLO\n",
        "import cv2\n",
        "from PIL import Image, ImageDraw\n",
        "import requests\n",
        "import supervision as sv\n"
      ],
      "metadata": {
        "id": "wNR-eQUr2-c1"
      },
      "execution_count": null,
      "outputs": []
    },
    {
      "cell_type": "code",
      "source": [
        "!pip install roboflow\n",
        "from roboflow import Roboflow\n",
        "rf = Roboflow(api_key=\"tLlJqdTxCDmaOESbEZ2C\")\n",
        "project = rf.workspace(\"1253971414qqcom-gpnwq\").project(\"new_fish_detect_2\")\n",
        "version = project.version(2)\n",
        "dataset = version.download(\"yolov8\")"
      ],
      "metadata": {
        "id": "T_ncXAxjTZXI"
      },
      "execution_count": null,
      "outputs": []
    },
    {
      "cell_type": "code",
      "source": [
        "model=YOLO(\"yolov8n.pt\")"
      ],
      "metadata": {
        "id": "q33nAwmo31G_"
      },
      "execution_count": null,
      "outputs": []
    },
    {
      "cell_type": "code",
      "source": [
        "model.train(data=\"/content/new_fish_detect_2-2/data.yaml\",epochs=5,conf=0.7)"
      ],
      "metadata": {
        "id": "bqd9AghZ6Lv-"
      },
      "execution_count": null,
      "outputs": []
    },
    {
      "cell_type": "code",
      "source": [
        "trained_model = YOLO('/content/runs/detect/train/weights/best.pt')"
      ],
      "metadata": {
        "id": "WIEAKs9D2Sur"
      },
      "execution_count": null,
      "outputs": []
    },
    {
      "cell_type": "code",
      "source": [
        "from google.colab import files\n",
        "uploaded = files.upload()\n",
        "list(uploaded.keys())[0]\n",
        "out = trained_model.predict(list(uploaded.keys())[0],save=True)"
      ],
      "metadata": {
        "id": "K47pLHLg5QIP"
      },
      "execution_count": null,
      "outputs": []
    }
  ]
}